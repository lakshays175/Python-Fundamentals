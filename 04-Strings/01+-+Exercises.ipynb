{
 "cells": [
  {
   "cell_type": "markdown",
   "id": "b32a09ec",
   "metadata": {},
   "source": [
    "### Solutions"
   ]
  },
  {
   "cell_type": "markdown",
   "id": "89d7fa38",
   "metadata": {},
   "source": [
    "#### Question 1"
   ]
  },
  {
   "cell_type": "markdown",
   "id": "f4226de7",
   "metadata": {},
   "source": [
    "Given this string of comma separated characters, create three new variables containing the unicode codepoint (in hex), uppercase and lower case versions of each character (also comma delimited).\n",
    "\n",
    "For example, if the string was `'a, b, c'` you should generate three lists that look like:\n",
    "* `['0x61', '0x62', '0x63']`\n",
    "* `['a', 'b', 'c']`\n",
    "* `['A', 'B', 'C']`\n",
    "\n",
    "[You should use the `split()` and `strip()` functions, amongst others, to help you solve this.]"
   ]
  },
  {
   "cell_type": "code",
   "execution_count": 1,
   "id": "8b78843c",
   "metadata": {},
   "outputs": [],
   "source": [
    "s = 'Π, ύ, θ, ω, ν'"
   ]
  },
  {
   "cell_type": "code",
   "execution_count": 3,
   "id": "277c8f38",
   "metadata": {},
   "outputs": [
    {
     "data": {
      "text/plain": [
       "'Π, Ύ, Θ, Ω, Ν'"
      ]
     },
     "execution_count": 3,
     "metadata": {},
     "output_type": "execute_result"
    }
   ],
   "source": [
    "u= s.upper()\n",
    "u"
   ]
  },
  {
   "cell_type": "code",
   "execution_count": 4,
   "id": "22208861",
   "metadata": {},
   "outputs": [
    {
     "data": {
      "text/plain": [
       "'π, ύ, θ, ω, ν'"
      ]
     },
     "execution_count": 4,
     "metadata": {},
     "output_type": "execute_result"
    }
   ],
   "source": [
    "l=s.lower()\n",
    "l"
   ]
  },
  {
   "cell_type": "code",
   "execution_count": 38,
   "id": "d5a1eeed",
   "metadata": {},
   "outputs": [
    {
     "data": {
      "text/plain": [
       "['Π', ' ύ', ' θ', ' ω', ' ν']"
      ]
     },
     "execution_count": 38,
     "metadata": {},
     "output_type": "execute_result"
    }
   ],
   "source": [
    "l= s.split(',')\n",
    "l"
   ]
  },
  {
   "cell_type": "code",
   "execution_count": 43,
   "id": "dd38d616",
   "metadata": {},
   "outputs": [
    {
     "data": {
      "text/plain": [
       "['0x3a0', '0x3cd', '0x3b8', '0x3c9', '0x3bd']"
      ]
     },
     "execution_count": 43,
     "metadata": {},
     "output_type": "execute_result"
    }
   ],
   "source": [
    "updated_list= []\n",
    "for r in l: \n",
    "    updated_list.append(hex(ord(r.strip())))\n",
    "\n",
    "updated_list"
   ]
  },
  {
   "cell_type": "markdown",
   "id": "94e45cbc",
   "metadata": {},
   "source": [
    "#### Question 2"
   ]
  },
  {
   "attachments": {},
   "cell_type": "markdown",
   "id": "a0554e52",
   "metadata": {},
   "source": [
    "Using two types of string interpolation, and given the variable `a` that contains an integer, print out the following string for `a`:\n",
    "\n",
    "`The number ...value of a... is (or is not) even`\n",
    "\n",
    "For example, if `a` is `42`, the your code should print:\n",
    "\n",
    "`'The number 42 is even'`\n",
    "\n",
    "But if `a` is `31`, then the **same** code should print:\n",
    "\n",
    "`'The number 31 is not even'`\n"
   ]
  },
  {
   "cell_type": "code",
   "execution_count": 22,
   "id": "bf4c9882",
   "metadata": {},
   "outputs": [
    {
     "name": "stdout",
     "output_type": "stream",
     "text": [
      "The number ...value of 42... is (or is not) even\n"
     ]
    }
   ],
   "source": [
    "a= 42\n",
    "\n",
    "if a%2 == 0: \n",
    "    print(f\"The number ...value of {a}... is (or is not) even\")\n",
    "else: \n",
    "    print(f\"The number {a} is not even\")"
   ]
  },
  {
   "cell_type": "markdown",
   "id": "ab2c955f",
   "metadata": {},
   "source": [
    "#### Question 3"
   ]
  },
  {
   "cell_type": "markdown",
   "id": "03619dde",
   "metadata": {},
   "source": [
    "You are given two variables `a` and `b` (with `b` non-zero), and you need to generate a string that reads something like this:\n",
    "\n",
    "```\n",
    "'a / b = (result)'\n",
    "```"
   ]
  },
  {
   "cell_type": "markdown",
   "id": "76378ec5",
   "metadata": {},
   "source": [
    "But you want your string to be nicely formatted for display purposes, so you want to limit displaying possible digits after the decimal point in all your values to 4 digits."
   ]
  },
  {
   "cell_type": "code",
   "execution_count": 26,
   "id": "305a5ae1",
   "metadata": {},
   "outputs": [
    {
     "data": {
      "text/plain": [
       "'4 / 8 = (0.500000)'"
      ]
     },
     "execution_count": 26,
     "metadata": {},
     "output_type": "execute_result"
    }
   ],
   "source": [
    "a,b = 4,8\n",
    "\n",
    "f\"{a} / {b} = ({a/b:4f})\""
   ]
  }
 ],
 "metadata": {
  "kernelspec": {
   "display_name": "Python 3 (ipykernel)",
   "language": "python",
   "name": "python3"
  },
  "language_info": {
   "codemirror_mode": {
    "name": "ipython",
    "version": 3
   },
   "file_extension": ".py",
   "mimetype": "text/x-python",
   "name": "python",
   "nbconvert_exporter": "python",
   "pygments_lexer": "ipython3",
   "version": "3.9.1"
  }
 },
 "nbformat": 4,
 "nbformat_minor": 5
}
