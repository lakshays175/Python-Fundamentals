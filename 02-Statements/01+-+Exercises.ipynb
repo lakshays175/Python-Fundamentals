{
 "cells": [
  {
   "cell_type": "markdown",
   "id": "sensitive-saint",
   "metadata": {},
   "source": [
    "### Exercises"
   ]
  },
  {
   "cell_type": "markdown",
   "id": "particular-humidity",
   "metadata": {},
   "source": [
    "#### Exercise 1"
   ]
  },
  {
   "cell_type": "markdown",
   "id": "trained-masters",
   "metadata": {},
   "source": [
    "Given a variable `a` (containing any value), re-assign the value `\"N/A\"` if `a` is `None`, and leave `a` unchanged otherwise. Use an `if...else...` statement."
   ]
  },
  {
   "cell_type": "code",
   "execution_count": 2,
   "id": "657ebb8b",
   "metadata": {},
   "outputs": [
    {
     "name": "stdout",
     "output_type": "stream",
     "text": [
      "None\n"
     ]
    }
   ],
   "source": [
    "a= None\n",
    "\n",
    "\n",
    "\"N/A\" if a is None else a\n",
    "\n",
    "print(a)\n",
    "\n"
   ]
  },
  {
   "cell_type": "markdown",
   "id": "growing-acoustic",
   "metadata": {},
   "source": [
    "#### Exercise 2"
   ]
  },
  {
   "cell_type": "markdown",
   "id": "hazardous-formula",
   "metadata": {},
   "source": [
    "Do the same thing as Question 1, but this time use a ternary operator."
   ]
  },
  {
   "cell_type": "markdown",
   "id": "seasonal-bronze",
   "metadata": {},
   "source": [
    "#### Exercise 3"
   ]
  },
  {
   "cell_type": "markdown",
   "id": "atomic-authority",
   "metadata": {},
   "source": [
    "Given an credit score `score`, assign a string value to another variable `rating` based on the following scale:\n",
    "\n",
    "- [0, 580) --> Poor\n",
    "- [580, 670) --> Fair\n",
    "- [670, 740) --> Good\n",
    "- [740, 800) --> Very Good\n",
    "- [800, 850] --> Excellent\n"
   ]
  },
  {
   "cell_type": "code",
   "execution_count": 9,
   "id": "edf0a2f0",
   "metadata": {},
   "outputs": [
    {
     "name": "stdout",
     "output_type": "stream",
     "text": [
      "Good\n"
     ]
    }
   ],
   "source": [
    "score = 670\n",
    "\n",
    "rating= ''\n",
    "\n",
    "if score>=0 and score<580: \n",
    "    rating= 'Poor' \n",
    "elif score>=580 and score<670: \n",
    "    rating= 'Fair'\n",
    "elif score>=670 and score<740: \n",
    "    rating='Good'\n",
    "elif score>=740 and score <800:\n",
    "    rating= 'Very Good'\n",
    "else: \n",
    "    rating='Excellent'\n",
    "\n",
    "print(rating)"
   ]
  },
  {
   "cell_type": "markdown",
   "id": "fiscal-estate",
   "metadata": {},
   "source": [
    "#### Exercise 4"
   ]
  },
  {
   "cell_type": "markdown",
   "id": "overhead-candidate",
   "metadata": {},
   "source": [
    "Given an `elapsed` time (in seconds), write code to set a variable `magnitude` based on the following conditions:\n",
    "\n",
    "- if elapsed time is less than 1 minute, `magnitude` --> `'seconds'`\n",
    "- if elapsed time is more than 1 minute, but less than 1 hour, `magnitude` --> `'minutes'`\n",
    "- if elapsed time is more than 1 hour, but less than 1 day, `magnitude` --> `'hours'`\n",
    "- if elapsed time is more than 1 day, but less than 1 week: `magnitude` --> `'days'`\n",
    "- if elapsed time is more than 1 week, `magnitude` --> '`weeks'`"
   ]
  },
  {
   "cell_type": "code",
   "execution_count": 24,
   "id": "e3fd55af",
   "metadata": {},
   "outputs": [
    {
     "name": "stdout",
     "output_type": "stream",
     "text": [
      "0 40 0 0 0\n",
      "minutes\n"
     ]
    }
   ],
   "source": [
    "elapsed = 2400\n",
    "hours = elapsed//(3600)\n",
    "minutes= (elapsed % 3600)//60\n",
    "seconds= (elapsed % 3600)%60 \n",
    "day = hours // 24\n",
    "week = day // 7\n",
    "\n",
    "magnitude=''\n",
    "\n",
    "print(hours,minutes,seconds,day,week)\n",
    "\n",
    "if minutes < 1 and hours < 1: \n",
    "    magnitude = 'seconds'\n",
    "elif minutes>= 1 and hours< 1:\n",
    "    magnitude= 'minutes'\n",
    "elif hours> 1 and day< 1: \n",
    "    magnitude= 'hours'\n",
    "elif day>= 1 and week<= 1: \n",
    "    magnitude='days'\n",
    "else: \n",
    "    magnitude='weeks'\n",
    "\n",
    "print(magnitude)  "
   ]
  },
  {
   "cell_type": "code",
   "execution_count": null,
   "id": "10f454ab",
   "metadata": {},
   "outputs": [],
   "source": []
  }
 ],
 "metadata": {
  "kernelspec": {
   "display_name": "Python 3",
   "language": "python",
   "name": "python3"
  },
  "language_info": {
   "codemirror_mode": {
    "name": "ipython",
    "version": 3
   },
   "file_extension": ".py",
   "mimetype": "text/x-python",
   "name": "python",
   "nbconvert_exporter": "python",
   "pygments_lexer": "ipython3",
   "version": "3.9.1"
  }
 },
 "nbformat": 4,
 "nbformat_minor": 5
}
