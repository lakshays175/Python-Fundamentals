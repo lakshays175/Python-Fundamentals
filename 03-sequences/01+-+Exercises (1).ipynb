{
 "cells": [
  {
   "cell_type": "markdown",
   "id": "animal-encoding",
   "metadata": {},
   "source": [
    "### Exercises"
   ]
  },
  {
   "cell_type": "markdown",
   "id": "editorial-church",
   "metadata": {},
   "source": [
    "#### Exercise 1"
   ]
  },
  {
   "cell_type": "markdown",
   "id": "coordinated-victor",
   "metadata": {},
   "source": [
    "Given the following string:"
   ]
  },
  {
   "cell_type": "code",
   "execution_count": 2,
   "id": "quick-symposium",
   "metadata": {},
   "outputs": [],
   "source": [
    "s = 'FfEeDdCcBbAa'"
   ]
  },
  {
   "cell_type": "markdown",
   "id": "imported-crown",
   "metadata": {},
   "source": [
    "Create two new variables that contain just the lower and upper case letters of `s` respectively, in the correct alphabetical order, i.e:\n",
    "\n",
    "- `'ABCDEF'`\n",
    "- `'abcdef'`"
   ]
  },
  {
   "cell_type": "code",
   "execution_count": 6,
   "id": "074e92da",
   "metadata": {},
   "outputs": [],
   "source": [
    "l = sorted(s)"
   ]
  },
  {
   "cell_type": "code",
   "execution_count": 10,
   "id": "a3a1128c",
   "metadata": {},
   "outputs": [],
   "source": [
    "u=l[6:]"
   ]
  },
  {
   "cell_type": "code",
   "execution_count": 11,
   "id": "927df1a1",
   "metadata": {},
   "outputs": [
    {
     "data": {
      "text/plain": [
       "['a', 'b', 'c', 'd', 'e', 'f']"
      ]
     },
     "execution_count": 11,
     "metadata": {},
     "output_type": "execute_result"
    }
   ],
   "source": [
    "u"
   ]
  },
  {
   "cell_type": "code",
   "execution_count": 12,
   "id": "3d2739d8",
   "metadata": {},
   "outputs": [
    {
     "data": {
      "text/plain": [
       "['A', 'B', 'C', 'D', 'E', 'F']"
      ]
     },
     "execution_count": 12,
     "metadata": {},
     "output_type": "execute_result"
    }
   ],
   "source": [
    "l[:6]"
   ]
  },
  {
   "cell_type": "code",
   "execution_count": null,
   "id": "a1a06a90",
   "metadata": {},
   "outputs": [],
   "source": []
  },
  {
   "cell_type": "markdown",
   "id": "copyrighted-spirit",
   "metadata": {},
   "source": [
    "#### Exercise 2"
   ]
  },
  {
   "cell_type": "markdown",
   "id": "powered-gazette",
   "metadata": {},
   "source": [
    "Concatenate the following tuples into a single one, but replacing the odd values with zeros (`0`)."
   ]
  },
  {
   "cell_type": "code",
   "execution_count": 13,
   "id": "interior-webster",
   "metadata": {},
   "outputs": [],
   "source": [
    "t1 = 1, 2, 3, 4, 5, 6\n",
    "t2 = 7, 8, 9, 10\n",
    "t3 = 11, 12, 13, 14, 15, 16, 17"
   ]
  },
  {
   "cell_type": "markdown",
   "id": "allied-ladder",
   "metadata": {},
   "source": [
    "You can assume that every tuple is a sequence of consecutive integers starting with an odd integer.\n",
    "\n",
    "Try to write your code to be as generic as possible."
   ]
  },
  {
   "cell_type": "code",
   "execution_count": 20,
   "id": "4d104b5c",
   "metadata": {},
   "outputs": [],
   "source": [
    "combined= t1.__add__(t2).__add__(t3)"
   ]
  },
  {
   "cell_type": "code",
   "execution_count": 21,
   "id": "2433e81d",
   "metadata": {},
   "outputs": [],
   "source": [
    "l1 = list(combined)"
   ]
  },
  {
   "cell_type": "code",
   "execution_count": 22,
   "metadata": {},
   "outputs": [
    {
     "data": {
      "text/plain": [
       "[1, 2, 3, 4, 5, 6, 7, 8, 9, 10, 11, 12, 13, 14, 15, 16, 17]"
      ]
     },
     "execution_count": 22,
     "metadata": {},
     "output_type": "execute_result"
    }
   ],
   "source": [
    "l1"
   ]
  },
  {
   "cell_type": "code",
   "execution_count": 32,
   "id": "356a4ac4",
   "metadata": {},
   "outputs": [],
   "source": [
    "l1[::2] = '0'*9"
   ]
  },
  {
   "cell_type": "code",
   "execution_count": 34,
   "id": "044c6fd6",
   "metadata": {},
   "outputs": [
    {
     "data": {
      "text/plain": [
       "['0', 2, '0', 4, '0', 6, '0', 8, '0', 10, '0', 12, '0', 14, '0', 16, '0']"
      ]
     },
     "execution_count": 34,
     "metadata": {},
     "output_type": "execute_result"
    }
   ],
   "source": [
    "l1"
   ]
  },
  {
   "cell_type": "code",
   "execution_count": 29,
   "id": "c4c47dbd",
   "metadata": {},
   "outputs": [
    {
     "data": {
      "text/plain": [
       "0"
      ]
     },
     "execution_count": 29,
     "metadata": {},
     "output_type": "execute_result"
    }
   ],
   "source": [
    "x"
   ]
  },
  {
   "cell_type": "code",
   "execution_count": 30,
   "id": "c2fddea0",
   "metadata": {},
   "outputs": [],
   "source": [
    "x = '0'* 9"
   ]
  },
  {
   "cell_type": "code",
   "execution_count": 31,
   "id": "13fa8761",
   "metadata": {},
   "outputs": [
    {
     "data": {
      "text/plain": [
       "'000000000'"
      ]
     },
     "execution_count": 31,
     "metadata": {},
     "output_type": "execute_result"
    }
   ],
   "source": [
    "x"
   ]
  },
  {
   "cell_type": "code",
   "execution_count": null,
   "id": "04398104",
   "metadata": {},
   "outputs": [],
   "source": []
  },
  {
   "cell_type": "code",
   "execution_count": null,
   "id": "27178af2",
   "metadata": {},
   "outputs": [],
   "source": []
  },
  {
   "cell_type": "code",
   "execution_count": null,
   "id": "ff789412",
   "metadata": {},
   "outputs": [],
   "source": []
  },
  {
   "cell_type": "markdown",
   "id": "lucky-divide",
   "metadata": {},
   "source": [
    "Given the following matrix:"
   ]
  },
  {
   "cell_type": "code",
   "execution_count": 35,
   "id": "israeli-porter",
   "metadata": {},
   "outputs": [],
   "source": [
    "m = [\n",
    "    [0, 0, 0],\n",
    "    [0, 0, 0],\n",
    "    [0, 0, 0]\n",
    "]"
   ]
  },
  {
   "cell_type": "markdown",
   "id": "independent-blast",
   "metadata": {},
   "source": [
    "Make this matrix into an identity matrix (setting the diagonal elements to `1`).\n",
    "\n",
    "Your code should *mutate* `m`."
   ]
  },
  {
   "cell_type": "code",
   "execution_count": 36,
   "id": "a5077689",
   "metadata": {},
   "outputs": [],
   "source": [
    "m[0],m[1],m[2]= [1,0,0],[0,1,0],[0,0,1]"
   ]
  },
  {
   "cell_type": "code",
   "execution_count": 37,
   "id": "799ee8e6",
   "metadata": {},
   "outputs": [
    {
     "data": {
      "text/plain": [
       "[[1, 0, 0], [0, 1, 0], [0, 0, 1]]"
      ]
     },
     "execution_count": 37,
     "metadata": {},
     "output_type": "execute_result"
    }
   ],
   "source": [
    "m"
   ]
  },
  {
   "cell_type": "code",
   "execution_count": null,
   "id": "f4ada4ab",
   "metadata": {},
   "outputs": [],
   "source": []
  },
  {
   "cell_type": "code",
   "execution_count": null,
   "id": "15304ba4",
   "metadata": {},
   "outputs": [],
   "source": []
  },
  {
   "cell_type": "markdown",
   "id": "damaged-response",
   "metadata": {},
   "source": [
    "#### Exercise 4"
   ]
  },
  {
   "cell_type": "markdown",
   "id": "separated-april",
   "metadata": {},
   "source": [
    "Do the same problem as Exercise 3, but do **not** mutate `m`."
   ]
  },
  {
   "cell_type": "markdown",
   "id": "respiratory-uniform",
   "metadata": {},
   "source": [
    "#### Exercise 5"
   ]
  },
  {
   "attachments": {},
   "cell_type": "markdown",
   "id": "heard-hurricane",
   "metadata": {},
   "source": [
    "You are given a list of tuples that each contain 4 values:\n",
    "\n",
    "```\n",
    "(amount, currency, target_currency, exchange_rate)\n",
    "```"
   ]
  },
  {
   "cell_type": "code",
   "execution_count": 39,
   "id": "positive-welcome",
   "metadata": {},
   "outputs": [],
   "source": [
    "data = [\n",
    "    (100, 'USD', 'EUR', 0.83),\n",
    "    (100, 'USD', 'CAD', 1.27),\n",
    "    (100, 'CAD', 'EUR', 0.65)\n",
    "]"
   ]
  },
  {
   "cell_type": "markdown",
   "id": "alternative-lobby",
   "metadata": {},
   "source": [
    "Write code that converts the `amount` from its `currency` to its `target_currency` using the `exchange_rate` (which is the exchange rate for `1` `currency` in `target_currency`).\n",
    "\n",
    "Try to make your code as generic as possible (we'll see later how to use loops so we don't have to write three separate statements).\n",
    "\n",
    "In other words, you'll need three blocks of code here that are essentially almost identical.\n",
    "\n",
    "Use unpacking to assign the values in each tuple to variables.\n",
    "\n",
    "Your result for each row should print something like this out:\n",
    "\n",
    "```\n",
    "100 USD = 83 EUR\n",
    "```"
   ]
  },
  {
   "cell_type": "code",
   "execution_count": 40,
   "id": "d8b5c783",
   "metadata": {},
   "outputs": [],
   "source": [
    "(amount, currency, target_currency, exchange_rate) = data[(0)]"
   ]
  },
  {
   "cell_type": "code",
   "execution_count": 41,
   "id": "ea2f04d4",
   "metadata": {},
   "outputs": [
    {
     "data": {
      "text/plain": [
       "(100, 'USD', 'EUR', 0.83)"
      ]
     },
     "execution_count": 41,
     "metadata": {},
     "output_type": "execute_result"
    }
   ],
   "source": [
    "(amount, currency, target_currency, exchange_rate)"
   ]
  },
  {
   "cell_type": "code",
   "execution_count": 42,
   "id": "d561e04e",
   "metadata": {},
   "outputs": [],
   "source": [
    "(amount, currency, target_currency, exchange_rate) = data[1]"
   ]
  },
  {
   "cell_type": "code",
   "execution_count": 43,
   "id": "128f5f0c",
   "metadata": {},
   "outputs": [
    {
     "data": {
      "text/plain": [
       "(100, 'USD', 'CAD', 1.27)"
      ]
     },
     "execution_count": 43,
     "metadata": {},
     "output_type": "execute_result"
    }
   ],
   "source": [
    "(amount, currency, target_currency, exchange_rate)"
   ]
  },
  {
   "cell_type": "code",
   "execution_count": 45,
   "id": "1fddfd84",
   "metadata": {},
   "outputs": [],
   "source": [
    "(amount, currency, target_currency, exchange_rate)= data[2]"
   ]
  },
  {
   "cell_type": "code",
   "execution_count": 46,
   "id": "7cb88629",
   "metadata": {},
   "outputs": [
    {
     "data": {
      "text/plain": [
       "(100, 'CAD', 'EUR', 0.65)"
      ]
     },
     "execution_count": 46,
     "metadata": {},
     "output_type": "execute_result"
    }
   ],
   "source": [
    "(amount, currency, target_currency, exchange_rate)"
   ]
  },
  {
   "cell_type": "code",
   "execution_count": 48,
   "id": "ee331185",
   "metadata": {},
   "outputs": [
    {
     "name": "stdout",
     "output_type": "stream",
     "text": [
      "100 CAD = 65.0 EUR\n"
     ]
    }
   ],
   "source": [
    "row = 2\n",
    "\n",
    "amount, currency, target_currency, exchange_rate = data[row]\n",
    "converted = amount * exchange_rate\n",
    "print(amount, currency, '=', converted, target_currency, sep=' ')"
   ]
  },
  {
   "cell_type": "code",
   "execution_count": null,
   "id": "5cd02123",
   "metadata": {},
   "outputs": [],
   "source": []
  }
 ],
 "metadata": {
  "kernelspec": {
   "display_name": "Python 3",
   "language": "python",
   "name": "python3"
  },
  "language_info": {
   "codemirror_mode": {
    "name": "ipython",
    "version": 3
   },
   "file_extension": ".py",
   "mimetype": "text/x-python",
   "name": "python",
   "nbconvert_exporter": "python",
   "pygments_lexer": "ipython3",
   "version": "3.9.1"
  }
 },
 "nbformat": 4,
 "nbformat_minor": 5
}
